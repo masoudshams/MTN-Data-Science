{
 "cells": [
  {
   "cell_type": "code",
   "execution_count": 1,
   "id": "b61fff58",
   "metadata": {},
   "outputs": [
    {
     "name": "stdout",
     "output_type": "stream",
     "text": [
      "Collecting tesseract\n",
      "  Using cached tesseract-0.1.3.tar.gz (45.6 MB)Note: you may need to restart the kernel to use updated packages.\n",
      "  Preparing metadata (setup.py): started\n",
      "\n"
     ]
    },
    {
     "name": "stderr",
     "output_type": "stream",
     "text": [
      "WARNING: You are using pip version 21.3.1; however, version 22.0.3 is available.\n",
      "You should consider upgrading via the 'C:\\Users\\masoud.sham\\Anaconda3\\python.exe -m pip install --upgrade pip' command.\n"
     ]
    },
    {
     "name": "stdout",
     "output_type": "stream",
     "text": [
      "  Preparing metadata (setup.py): finished with status 'done'\n",
      "Building wheels for collected packages: tesseract\n",
      "  Building wheel for tesseract (setup.py): started\n",
      "  Building wheel for tesseract (setup.py): finished with status 'done'\n",
      "  Created wheel for tesseract: filename=tesseract-0.1.3-py3-none-any.whl size=45562571 sha256=281bf2b342dc0d9f6c51810b678a1da253c1c32b101fec7765b935253b75b09b\n",
      "  Stored in directory: c:\\users\\masoud.sham\\appdata\\local\\pip\\cache\\wheels\\7f\\a1\\69\\fabe07004553a36d818e4657fed410daf525fe1ae161f469d3\n",
      "Successfully built tesseract\n",
      "Installing collected packages: tesseract\n",
      "Successfully installed tesseract-0.1.3\n"
     ]
    }
   ],
   "source": [
    "pip install tesseract"
   ]
  },
  {
   "cell_type": "code",
   "execution_count": 3,
   "id": "aafebf19",
   "metadata": {},
   "outputs": [
    {
     "name": "stdout",
     "output_type": "stream",
     "text": [
      "Collecting pytesseract\n",
      "  Using cached pytesseract-0.3.8.tar.gz (14 kB)\n",
      "  Preparing metadata (setup.py): started\n",
      "  Preparing metadata (setup.py): finished with status 'done'\n",
      "Requirement already satisfied: Pillow in c:\\users\\masoud.sham\\anaconda3\\lib\\site-packages (from pytesseract) (8.2.0)\n",
      "Building wheels for collected packages: pytesseract\n",
      "  Building wheel for pytesseract (setup.py): started\n",
      "  Building wheel for pytesseract (setup.py): finished with status 'done'\n",
      "  Created wheel for pytesseract: filename=pytesseract-0.3.8-py2.py3-none-any.whl size=14070 sha256=32085ec492621e42f52f37c3e98aba739fd70a785dc9dac7c778aaf7ab33aad4\n",
      "  Stored in directory: c:\\users\\masoud.sham\\appdata\\local\\pip\\cache\\wheels\\ed\\8a\\c6\\40c7ec06c2dd3df636832537238128a1471bf9c1b6a3a9bf40\n",
      "Successfully built pytesseract\n",
      "Installing collected packages: pytesseract\n",
      "Successfully installed pytesseract-0.3.8\n",
      "Note: you may need to restart the kernel to use updated packages.\n"
     ]
    },
    {
     "name": "stderr",
     "output_type": "stream",
     "text": [
      "WARNING: You are using pip version 21.3.1; however, version 22.0.3 is available.\n",
      "You should consider upgrading via the 'C:\\Users\\masoud.sham\\Anaconda3\\python.exe -m pip install --upgrade pip' command.\n"
     ]
    }
   ],
   "source": [
    "pip install pytesseract"
   ]
  },
  {
   "cell_type": "code",
   "execution_count": 236,
   "id": "fad8a1ff",
   "metadata": {},
   "outputs": [],
   "source": [
    "import cv2\n",
    "import numpy as np\n",
    "import pytesseract\n",
    "pytesseract.pytesseract.tesseract_cmd = r\"C:\\Users\\masoud.sham\\AppData\\Local\\Programs\\Tesseract-OCR\\tesseract.exe\""
   ]
  },
  {
   "cell_type": "code",
   "execution_count": 237,
   "id": "57fae0a8",
   "metadata": {},
   "outputs": [],
   "source": [
    "def pre_process(img):\n",
    "    grey = cv2.cvtColor(img, cv2.COLOR_BGR2GRAY)\n",
    "\n",
    "    blur = cv2.GaussianBlur(grey, (5, 5), 1)\n",
    "\n",
    "    edge = cv2.Canny(blur, 135, 200)\n",
    "\n",
    "    kernal = np.ones((5, 5))\n",
    "\n",
    "    dilate = cv2.dilate(edge, kernal, iterations=2)\n",
    "\n",
    "    threshold = cv2.erode(dilate, kernal, iterations=1)\n",
    "\n",
    "    return threshold"
   ]
  },
  {
   "cell_type": "code",
   "execution_count": 238,
   "id": "3305470d",
   "metadata": {},
   "outputs": [],
   "source": [
    "def get_contours(img):\n",
    "    biggest = np.array([])\n",
    "    max_area = 0\n",
    "    contours, hierarchy = cv2.findContours(threshold, cv2.RETR_EXTERNAL, cv2.CHAIN_APPROX_NONE)\n",
    "    for cnt in contours:\n",
    "        area = cv2.contourArea(cnt)\n",
    "\n",
    "        if area > 500:\n",
    "            peri = cv2.arcLength(cnt, True)\n",
    "            approx = cv2.approxPolyDP(cnt, 0.02 * peri, True)\n",
    "            if area > max_area and len(approx) == 4:\n",
    "                biggest = approx\n",
    "                max_area = area\n",
    "\n",
    "    points = cv2.drawContours(img_contour, biggest, -1, (255, 0, 0), 20)\n",
    "    return biggest"
   ]
  },
  {
   "cell_type": "code",
   "execution_count": 239,
   "id": "258045bd",
   "metadata": {},
   "outputs": [],
   "source": [
    "def reshape(points):\n",
    "    points = points.reshape((4, 2))\n",
    "    new_points = np.zeros((4, 1, 2), np.int32)\n",
    "\n",
    "    add = points.sum(1)\n",
    "    new_points[0] = points[np.argmin(add)]\n",
    "    new_points[3] = points[np.argmax(add)]\n",
    "    diff = np.diff(points, axis=1)\n",
    "    new_points[1] = points[np.argmin(diff)]\n",
    "    new_points[2] = points[np.argmax(diff)]\n",
    "\n",
    "    return new_points"
   ]
  },
  {
   "cell_type": "code",
   "execution_count": 240,
   "id": "d7244bbf",
   "metadata": {},
   "outputs": [],
   "source": [
    "def fix_image(img, contour):\n",
    "    contour = reshape(contour)\n",
    "\n",
    "    pts1 = np.float32(contour)\n",
    "    pts2 = np.float32([[0, 0], [width, 0], [0, height], [width, height]])\n",
    "\n",
    "    # get the warp perspective transform\n",
    "    matrix = cv2.getPerspectiveTransform(pts1, pts2)\n",
    "\n",
    "    # apply to the image\n",
    "    final_img = cv2.warpPerspective(img, matrix, (width, height))\n",
    "\n",
    "    #crop the image\n",
    "    cropped = final_img[20:final_img.shape[0] - 20, 20:final_img.shape[1] - 20]\n",
    "\n",
    "    return cropped"
   ]
  },
  {
   "cell_type": "code",
   "execution_count": 291,
   "id": "bffaf4a9",
   "metadata": {},
   "outputs": [
    {
     "name": "stdout",
     "output_type": "stream",
     "text": [
      "(2592, 4608, 3)\n",
      "text detected: \n",
      "scope of Work\n",
      "\n",
      "Brilliant Air Conditioners PTY LTD.\n",
      "03 Feb 2022.\n",
      "The work to be carried out will consist of the following items:\n",
      "\n",
      "1. John Doe will provide maintenance work on the compressors of the air conditioning units.\n",
      "2. The work will be done on the air conditioning units in the Johannesburg office.\n",
      "3. The work will be carried out between 15 February 2022 and 2022/03/05.\n",
      "\n",
      "In the event of any queries, please contact Sophie Williams on 082 221 1549.\n",
      "\n",
      "Or on sophiew@brilliantac.com\n",
      "\n",
      "Terms and Conditions.\n",
      "\n",
      "Any item not mentioned in the scope of work will not be carried out.\n",
      "\n",
      "Work will only take place once the payment is made in full, or if there is a service contract in place.\n",
      "Work will be guaranteed for 3 months after the completion date.\n",
      "\n",
      "Delays not caused by us will be chargeable.\n",
      "\n",
      "\n"
     ]
    }
   ],
   "source": [
    "file_name = r\"E:\\MTN Data Science Academy 2021\\Tests and other files\\Platinum Test\\Capstone Student Material\\Brilliant AC.jpg\"\n",
    "\n",
    "img = cv2.imread(file_name)\n",
    "print(img.shape)\n",
    "img_contour = img.copy()\n",
    "\n",
    "\n",
    "\n",
    "scale_percent = 100\n",
    "width = int(img.shape[1] * scale_percent / 100)\n",
    "height = int(img.shape[0] * scale_percent / 100)\n",
    "dim = (width, height)\n",
    "img = cv2.resize(img, dim, interpolation=cv2.INTER_AREA)\n",
    "\n",
    "threshold = pre_process(img)\n",
    "get_contour = get_contours(threshold)\n",
    "fixed_image = fix_image(img, get_contour)\n",
    "\n",
    "# extract text from image using tesseract\n",
    "\n",
    "text = pytesseract.image_to_string(img)\n",
    "print('text detected: \\n' + text)\n",
    "\n",
    "cv2.imshow('img', img)\n",
    "cv2.imshow('fixed_image', fixed_image)\n",
    "cv2.waitKey(0)\n",
    "cv2.destroyAllWindows()\n"
   ]
  },
  {
   "cell_type": "code",
   "execution_count": 403,
   "id": "97fd6920",
   "metadata": {},
   "outputs": [
    {
     "data": {
      "text/plain": [
       "'scope of Work\\n\\nBrilliant Air Conditioners PTY LTD.\\n03 Feb 2022.\\nThe work to be carried out will consist of the following items:\\n\\n1. John Doe will provide maintenance work on the compressors of the air conditioning units.\\n2. The work will be done on the air conditioning units in the Johannesburg office.\\n3. The work will be carried out between 15 February 2022 and 2022/03/05.\\n\\nIn the event of any queries, please contact Sophie Williams on 082 221 1549.\\n\\nOr on sophiew@brilliantac.com\\n\\nTerms and Conditions.\\n\\nAny item not mentioned in the scope of work will not be carried out.\\n\\nWork will only take place once the payment is made in full, or if there is a service contract in place.\\nWork will be guaranteed for 3 months after the completion date.\\n\\nDelays not caused by us will be chargeable.\\n\\n'"
      ]
     },
     "execution_count": 403,
     "metadata": {},
     "output_type": "execute_result"
    }
   ],
   "source": [
    "text"
   ]
  },
  {
   "cell_type": "code",
   "execution_count": 404,
   "id": "4e315867",
   "metadata": {},
   "outputs": [],
   "source": [
    "import spacy\n",
    "nlp = spacy.load('en_core_web_sm') \n",
    "doc  = nlp(text)"
   ]
  },
  {
   "cell_type": "code",
   "execution_count": 405,
   "id": "e7d62ddd",
   "metadata": {},
   "outputs": [
    {
     "data": {
      "text/plain": [
       "scope of Work\n",
       "\n",
       "Brilliant Air Conditioners PTY LTD.\n",
       "03 Feb 2022.\n",
       "The work to be carried out will consist of the following items:\n",
       "\n",
       "1. John Doe will provide maintenance work on the compressors of the air conditioning units.\n",
       "2. The work will be done on the air conditioning units in the Johannesburg office.\n",
       "3. The work will be carried out between 15 February 2022 and 2022/03/05.\n",
       "\n",
       "In the event of any queries, please contact Sophie Williams on 082 221 1549.\n",
       "\n",
       "Or on sophiew@brilliantac.com\n",
       "\n",
       "Terms and Conditions.\n",
       "\n",
       "Any item not mentioned in the scope of work will not be carried out.\n",
       "\n",
       "Work will only take place once the payment is made in full, or if there is a service contract in place.\n",
       "Work will be guaranteed for 3 months after the completion date.\n",
       "\n",
       "Delays not caused by us will be chargeable.\n"
      ]
     },
     "execution_count": 405,
     "metadata": {},
     "output_type": "execute_result"
    }
   ],
   "source": [
    "doc"
   ]
  },
  {
   "cell_type": "code",
   "execution_count": 406,
   "id": "a533f2b3",
   "metadata": {},
   "outputs": [
    {
     "name": "stdout",
     "output_type": "stream",
     "text": [
      "scope\n",
      "of\n",
      "Work\n",
      "\n",
      "\n",
      "\n",
      "Brilliant\n",
      "Air\n",
      "Conditioners\n",
      "PTY\n",
      "LTD\n",
      ".\n",
      "\n",
      "\n",
      "03\n",
      "Feb\n",
      "2022\n",
      ".\n",
      "\n",
      "\n",
      "The\n",
      "work\n",
      "to\n",
      "be\n",
      "carried\n",
      "out\n",
      "will\n",
      "consist\n",
      "of\n",
      "the\n",
      "following\n",
      "items\n",
      ":\n",
      "\n",
      "\n",
      "\n",
      "1\n",
      ".\n",
      "John\n",
      "Doe\n",
      "will\n",
      "provide\n",
      "maintenance\n",
      "work\n",
      "on\n",
      "the\n",
      "compressors\n",
      "of\n",
      "the\n",
      "air\n",
      "conditioning\n",
      "units\n",
      ".\n",
      "\n",
      "\n",
      "2\n",
      ".\n",
      "The\n",
      "work\n",
      "will\n",
      "be\n",
      "done\n",
      "on\n",
      "the\n",
      "air\n",
      "conditioning\n",
      "units\n",
      "in\n",
      "the\n",
      "Johannesburg\n",
      "office\n",
      ".\n",
      "\n",
      "\n",
      "3\n",
      ".\n",
      "The\n",
      "work\n",
      "will\n",
      "be\n",
      "carried\n",
      "out\n",
      "between\n",
      "15\n",
      "February\n",
      "2022\n",
      "and\n",
      "2022/03/05\n",
      ".\n",
      "\n",
      "\n",
      "\n",
      "In\n",
      "the\n",
      "event\n",
      "of\n",
      "any\n",
      "queries\n",
      ",\n",
      "please\n",
      "contact\n",
      "Sophie\n",
      "Williams\n",
      "on\n",
      "082\n",
      "221\n",
      "1549\n",
      ".\n",
      "\n",
      "\n",
      "\n",
      "Or\n",
      "on\n",
      "sophiew@brilliantac.com\n",
      "\n",
      "\n",
      "\n",
      "Terms\n",
      "and\n",
      "Conditions\n",
      ".\n",
      "\n",
      "\n",
      "\n",
      "Any\n",
      "item\n",
      "not\n",
      "mentioned\n",
      "in\n",
      "the\n",
      "scope\n",
      "of\n",
      "work\n",
      "will\n",
      "not\n",
      "be\n",
      "carried\n",
      "out\n",
      ".\n",
      "\n",
      "\n",
      "\n",
      "Work\n",
      "will\n",
      "only\n",
      "take\n",
      "place\n",
      "once\n",
      "the\n",
      "payment\n",
      "is\n",
      "made\n",
      "in\n",
      "full\n",
      ",\n",
      "or\n",
      "if\n",
      "there\n",
      "is\n",
      "a\n",
      "service\n",
      "contract\n",
      "in\n",
      "place\n",
      ".\n",
      "\n",
      "\n",
      "Work\n",
      "will\n",
      "be\n",
      "guaranteed\n",
      "for\n",
      "3\n",
      "months\n",
      "after\n",
      "the\n",
      "completion\n",
      "date\n",
      ".\n",
      "\n",
      "\n",
      "\n",
      "Delays\n",
      "not\n",
      "caused\n",
      "by\n",
      "us\n",
      "will\n",
      "be\n",
      "chargeable\n",
      ".\n",
      "\n",
      "\n",
      "\n"
     ]
    }
   ],
   "source": [
    "for token in doc:\n",
    "    print(token)\n"
   ]
  },
  {
   "cell_type": "code",
   "execution_count": 407,
   "id": "1ebe369d",
   "metadata": {},
   "outputs": [
    {
     "name": "stdout",
     "output_type": "stream",
     "text": [
      "scope of Work\n",
      "\n",
      "Brilliant Air Conditioners PTY LTD.\n",
      "\n",
      "03\n",
      "Feb 2022.\n",
      "\n",
      "The work to be carried out will consist of the following items:\n",
      "\n",
      "1.\n",
      "John Doe will provide maintenance work on the compressors of the air conditioning units.\n",
      "\n",
      "2.\n",
      "The work will be done on the air conditioning units in the Johannesburg office.\n",
      "\n",
      "3.\n",
      "The work will be carried out between 15 February 2022 and 2022/03/05.\n",
      "\n",
      "\n",
      "In the event of any queries, please contact Sophie Williams on 082 221 1549.\n",
      "\n",
      "\n",
      "Or on sophiew@brilliantac.com\n",
      "\n",
      "Terms and Conditions.\n",
      "\n",
      "\n",
      "Any item not mentioned in the scope of work will not be carried out.\n",
      "\n",
      "\n",
      "Work will only take place once the payment is made in full, or if there is a service contract in place.\n",
      "\n",
      "Work will be guaranteed for 3 months after the completion date.\n",
      "\n",
      "\n",
      "Delays not caused by us will be chargeable.\n",
      "\n",
      "\n",
      "\n"
     ]
    }
   ],
   "source": [
    "for sent in doc.sents:\n",
    "    print(sent)"
   ]
  },
  {
   "cell_type": "code",
   "execution_count": 408,
   "id": "c5312eaf",
   "metadata": {},
   "outputs": [
    {
     "name": "stdout",
     "output_type": "stream",
     "text": [
      "                                 03 CARDINAL\n",
      "                           Feb 2022 DATE\n",
      "                                  1 CARDINAL\n",
      "                           John Doe PERSON\n",
      "                                  2 CARDINAL\n",
      "                       Johannesburg GPE\n",
      "                                  3 CARDINAL\n",
      "                      February 2022 DATE\n",
      "                         2022/03/05 CARDINAL\n",
      "                    Sophie Williams PERSON\n",
      "                                082 CARDINAL\n",
      "                           221 1549 DATE\n",
      "                         Conditions PERSON\n",
      "                           3 months DATE\n"
     ]
    }
   ],
   "source": [
    "for entity in doc.ents:\n",
    "    print(f\"{entity.text:>35} {entity.label_}\")"
   ]
  },
  {
   "cell_type": "code",
   "execution_count": 409,
   "id": "f68ebae6",
   "metadata": {},
   "outputs": [],
   "source": [
    "ruler = nlp.add_pipe('entity_ruler' , before = 'ner')"
   ]
  },
  {
   "cell_type": "code",
   "execution_count": 410,
   "id": "ef7e00e0",
   "metadata": {},
   "outputs": [],
   "source": [
    "patterns = [\n",
    "    {'label': 'COMPANY' , 'pattern' : 'Brilliant Air Conditioners PTY LTD.'},\n",
    "    {'label': 'DATE' , 'pattern' : '03 FEB 2022'},\n",
    "    {'label': 'DATE' , 'pattern' : '15 February 2022'},\n",
    "    {'label': 'DATE' , 'pattern' : '2022/03/05'},\n",
    "    {'label': 'EMAIL' , 'pattern' : 'sophiew@brilliantac.com'},\n",
    "    {'label': 'PHONE' , 'pattern' : '082 221 1549'},\n",
    "    \n",
    "]\n"
   ]
  },
  {
   "cell_type": "code",
   "execution_count": 411,
   "id": "9efb71f7",
   "metadata": {},
   "outputs": [],
   "source": [
    "ruler.add_patterns(patterns)"
   ]
  },
  {
   "cell_type": "code",
   "execution_count": 412,
   "id": "d336c7b4",
   "metadata": {},
   "outputs": [],
   "source": [
    "doc  = nlp(text)"
   ]
  },
  {
   "cell_type": "code",
   "execution_count": 413,
   "id": "a50d7985",
   "metadata": {},
   "outputs": [
    {
     "name": "stdout",
     "output_type": "stream",
     "text": [
      "Brilliant Air Conditioners PTY LTD. COMPANY\n",
      "                                 03 CARDINAL\n",
      "                           Feb 2022 DATE\n",
      "                                  1 CARDINAL\n",
      "                           John Doe PERSON\n",
      "                                  2 CARDINAL\n",
      "                       Johannesburg GPE\n",
      "                                  3 CARDINAL\n",
      "                   15 February 2022 DATE\n",
      "                         2022/03/05 DATE\n",
      "                    Sophie Williams PERSON\n",
      "                       082 221 1549 PHONE\n",
      "            sophiew@brilliantac.com EMAIL\n",
      "                         Conditions PERSON\n",
      "                           3 months DATE\n"
     ]
    }
   ],
   "source": [
    "for entity in doc.ents:\n",
    "    print(f\"{entity.text:>35} {entity.label_}\")"
   ]
  },
  {
   "cell_type": "code",
   "execution_count": 414,
   "id": "eb25b3ef",
   "metadata": {},
   "outputs": [],
   "source": [
    "from spacy.matcher import Matcher"
   ]
  },
  {
   "cell_type": "code",
   "execution_count": 415,
   "id": "6d73bc0f",
   "metadata": {},
   "outputs": [],
   "source": [
    "matcher = Matcher(nlp.vocab)"
   ]
  },
  {
   "cell_type": "code",
   "execution_count": 416,
   "id": "19ae9e21",
   "metadata": {},
   "outputs": [],
   "source": [
    "pattern1 = [\n",
    "    {\"IS_DIGIT\":True},\n",
    "    {\"IS_ALPHA\":True},\n",
    "    {\"IS_DIGIT\":True},\n",
    "    {\"IS_ALPHA\":True},\n",
    "    {\"LENGTH\":10 , 'OP':'+'}\n",
    "]\n",
    "\n",
    "\n",
    "\n",
    "matcher.add(\"dates_between\", [pattern1], greedy='LONGEST')\n",
    "\n"
   ]
  },
  {
   "cell_type": "code",
   "execution_count": 417,
   "id": "2fce9845",
   "metadata": {},
   "outputs": [],
   "source": [
    "\n",
    "pattern2 = [\n",
    "    {\"IS_DIGIT\":True},\n",
    "    {\"IS_ALPHA\":True},\n",
    "    {\"IS_DIGIT\":True},\n",
    "    {\"ORTH\":\".\"}\n",
    "]\n",
    "\n",
    "\n",
    "matcher.add(\"document_date\", [pattern2])\n",
    "\n"
   ]
  },
  {
   "cell_type": "code",
   "execution_count": 418,
   "id": "37329776",
   "metadata": {},
   "outputs": [],
   "source": [
    "pattern3 = [\n",
    "    {\"POS\":'VERB'},\n",
    "    {\"IS_ALPHA\":True},\n",
    "    {\"IS_ALPHA\":True},\n",
    "    {\"POS\":'ADP'},\n",
    "    {\"IS_DIGIT\":True},\n",
    "    {\"IS_DIGIT\":True},\n",
    "    {\"IS_DIGIT\":True},\n",
    "    {\"ORTH\":\".\"}\n",
    "]\n",
    "\n",
    "\n",
    "matcher.add(\"contact_person\", [pattern3])\n",
    "\n"
   ]
  },
  {
   "cell_type": "code",
   "execution_count": 419,
   "id": "8a929fbe",
   "metadata": {},
   "outputs": [],
   "source": [
    "pattern4 = [\n",
    "    {\"LIKE_EMAIL\":True},\n",
    "]\n",
    "\n",
    "matcher.add(\"contact_email\", [pattern4])\n"
   ]
  },
  {
   "cell_type": "code",
   "execution_count": 420,
   "id": "bbbff553",
   "metadata": {},
   "outputs": [],
   "source": [
    "lemmas = ['guarantee']\n",
    "\n",
    "\n",
    "pattern5 = [\n",
    "    {\"POS\":'VERB', 'LEMMA':{'IN' : lemmas}},\n",
    "    {\"POS\":'ADP'},\n",
    "    {\"IS_DIGIT\":True}\n",
    "\n",
    "]\n",
    "\n",
    "\n",
    "matcher.add(\"guaranteed\", [pattern5] )\n",
    "\n"
   ]
  },
  {
   "cell_type": "code",
   "execution_count": 425,
   "id": "211e20db",
   "metadata": {},
   "outputs": [],
   "source": [
    "pattern6 = [\n",
    "    {\"IS_DIGIT\":True},\n",
    "\n",
    "    {\"IS_DIGIT\":True},\n",
    "\n",
    "    {\"IS_DIGIT\":True}\n",
    "\n",
    "]\n",
    "\n",
    "\n",
    "matcher.add(\"contact_number\", [pattern6])\n"
   ]
  },
  {
   "cell_type": "code",
   "execution_count": 429,
   "id": "a7288771",
   "metadata": {},
   "outputs": [],
   "source": [
    "matches = matcher(doc)"
   ]
  },
  {
   "cell_type": "code",
   "execution_count": 430,
   "id": "29343734",
   "metadata": {},
   "outputs": [
    {
     "data": {
      "text/plain": [
       "[(6813683823940948672, 11, 15),\n",
       " (5464600899058834445, 94, 97),\n",
       " (14240950106243003388, 90, 98),\n",
       " (1156907039114809599, 101, 102),\n",
       " (13263265796178019049, 151, 154),\n",
       " (13767607165787426483, 75, 80)]"
      ]
     },
     "execution_count": 430,
     "metadata": {},
     "output_type": "execute_result"
    }
   ],
   "source": [
    "matches"
   ]
  },
  {
   "cell_type": "code",
   "execution_count": 431,
   "id": "8bd4bf35",
   "metadata": {},
   "outputs": [
    {
     "name": "stdout",
     "output_type": "stream",
     "text": [
      "(6813683823940948672, 11, 15) 03 Feb 2022.\n",
      "(5464600899058834445, 94, 97) 082 221 1549\n",
      "(14240950106243003388, 90, 98) contact Sophie Williams on 082 221 1549.\n",
      "(1156907039114809599, 101, 102) sophiew@brilliantac.com\n",
      "(13263265796178019049, 151, 154) guaranteed for 3\n",
      "(13767607165787426483, 75, 80) 15 February 2022 and 2022/03/05\n"
     ]
    }
   ],
   "source": [
    "for match in matches:\n",
    "    print(match, doc[match[1]:match[2]])"
   ]
  },
  {
   "cell_type": "code",
   "execution_count": 432,
   "id": "97e467ed",
   "metadata": {},
   "outputs": [
    {
     "name": "stdout",
     "output_type": "stream",
     "text": [
      "document_date: 03 Feb 2022.\n",
      "contact_number: 082 221 1549\n",
      "contact_person: contact Sophie Williams on 082 221 1549.\n",
      "contact_email: sophiew@brilliantac.com\n",
      "guaranteed: guaranteed for 3\n",
      "dates_between: 15 February 2022 and 2022/03/05\n"
     ]
    }
   ],
   "source": [
    "for i in range(0 , len(matches)):\n",
    "    index = matches[i]\n",
    "    tag = nlp.vocab[matches[i][0]].text\n",
    "    text2 = doc[matches[i][1]:matches[i][2]]\n",
    "    \n",
    "    print(f'{tag}: {text2}')"
   ]
  },
  {
   "cell_type": "code",
   "execution_count": 445,
   "id": "11130379",
   "metadata": {},
   "outputs": [
    {
     "name": "stdout",
     "output_type": "stream",
     "text": [
      "company_name:Brilliant Air Conditioners PTY LTD.\n",
      "locatoin:Johannesburg\n",
      "document_date: 03 Feb 2022.\n",
      "contact_number: 082 221 1549\n",
      "contact_person: contact Sophie Williams on 082 221 1549.\n",
      "contact_email: sophiew@brilliantac.com\n",
      "guaranteed: guaranteed for 3\n",
      "dates_between: 15 February 2022 and 2022/03/05\n"
     ]
    }
   ],
   "source": [
    "for entity in doc.ents:\n",
    "    if entity.label_ == 'COMPANY':\n",
    "        print(f'company_name:{entity.text}')\n",
    "        \n",
    "    if entity.label_ == 'GPE':\n",
    "        print(f'locatoin:{entity.text}') \n",
    "        \n",
    "\n",
    "for i in range(0 , len(matches)):\n",
    "    index = matches[i]\n",
    "    tag = nlp.vocab[matches[i][0]].text\n",
    "    text2 = doc[matches[i][1]:matches[i][2]]\n",
    "    \n",
    "    print(f'{tag}: {text2}')\n",
    "                "
   ]
  },
  {
   "cell_type": "code",
   "execution_count": 442,
   "id": "35953c3a",
   "metadata": {},
   "outputs": [],
   "source": [
    "for entity in doc.ents:\n",
    "    if entity.label_ == 'COMPANY':\n",
    "        company_name = entity.text\n",
    "    if entity.label_ == 'GPE':\n",
    "        location = entity.text\n"
   ]
  },
  {
   "cell_type": "code",
   "execution_count": 456,
   "id": "82b1d70d",
   "metadata": {},
   "outputs": [
    {
     "name": "stdout",
     "output_type": "stream",
     "text": [
      "document_date\n",
      "contact_number\n",
      "contact_person\n",
      "contact_email\n",
      "guaranteed\n",
      "dates_between\n"
     ]
    }
   ],
   "source": [
    "for match in matches[0:10]:\n",
    "    print(nlp.vocab[match[0]].text)\n",
    "    "
   ]
  },
  {
   "cell_type": "code",
   "execution_count": 483,
   "id": "39617c72",
   "metadata": {},
   "outputs": [],
   "source": [
    "for match in matches[0:10]:\n",
    "    if nlp.vocab[match[0]].text == 'document_date':\n",
    "        document_date= doc[match[1]:match[2]]\n",
    "        \n",
    "    if nlp.vocab[match[0]].text == 'contact_number':\n",
    "        contact_number= doc[match[1]:match[2]]\n",
    "        \n",
    "    if nlp.vocab[match[0]].text == 'contact_person':\n",
    "        contact_person= doc[match[1]:match[2]][1:3]\n",
    "        \n",
    "    if nlp.vocab[match[0]].text == 'contact_email':\n",
    "        contact_email= doc[match[1]:match[2]]\n",
    "        \n",
    "    if nlp.vocab[match[0]].text == 'guaranteed':\n",
    "        guaranteed= doc[match[1]:match[2]][2:3]\n",
    "        \n",
    "    if nlp.vocab[match[0]].text == 'dates_between':\n",
    "        dates_between= doc[match[1]:match[2]]"
   ]
  },
  {
   "cell_type": "code",
   "execution_count": 484,
   "id": "68409609",
   "metadata": {},
   "outputs": [
    {
     "name": "stdout",
     "output_type": "stream",
     "text": [
      "company_name: Brilliant Air Conditioners PTY LTD.\n",
      "document_date: 03 Feb 2022.\n",
      "location: Johannesburg\n",
      "dates_between: 15 February 2022 and 2022/03/05\n",
      "contact_person: Sophie Williams\n",
      "contact_email: sophiew@brilliantac.com\n",
      "contact_number: 082 221 1549\n",
      "guaranteed: 3\n"
     ]
    }
   ],
   "source": [
    "print(f\"company_name: {company_name}\")\n",
    "print(f\"document_date: {document_date}\")\n",
    "print(f\"location: {location}\")\n",
    "print(f\"dates_between: {dates_between}\")\n",
    "print(f\"contact_person: {contact_person}\")\n",
    "print(f\"contact_email: {contact_email}\")\n",
    "print(f\"contact_number: {contact_number}\")\n",
    "print(f\"guaranteed: {guaranteed}\")"
   ]
  }
 ],
 "metadata": {
  "kernelspec": {
   "display_name": "Python 3",
   "language": "python",
   "name": "python3"
  },
  "language_info": {
   "codemirror_mode": {
    "name": "ipython",
    "version": 3
   },
   "file_extension": ".py",
   "mimetype": "text/x-python",
   "name": "python",
   "nbconvert_exporter": "python",
   "pygments_lexer": "ipython3",
   "version": "3.8.8"
  }
 },
 "nbformat": 4,
 "nbformat_minor": 5
}
